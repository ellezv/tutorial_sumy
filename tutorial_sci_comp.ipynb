{
 "cells": [
  {
   "cell_type": "markdown",
   "metadata": {},
   "source": [
    "<h1 align=\"center\"> How to scrape stuff and not read all of it </h1>\n",
    "\n",
    "### Installation:\n",
    "\n",
    "I have the code written in this notebook, you can follow along using your own notebook or in your code editor of choice.\n",
    "First thing first, you are going to need a virtual environment. Once you do you will need to install these packages if you do not have them yet:\n",
    "\n",
    "\n",
    "```bash\n",
    "pip install jupyter\n",
    "pip install requests\n",
    "pip install beautifulsoup4\n",
    "pip install sumy\n",
    "pip install numpy\n",
    "```\n",
    "\n",
    "We also need to download this punkt from NLTK, so let's do that quickly:\n",
    "\n",
    "```python\n",
    "python3\n",
    "import nltk\n",
    "nltk.download('punkt')\n",
    "```\n",
    "\n",
    "That's all you need!\n",
    "\n",
    "\n",
    "### Getting started with our scraper:"
   ]
  },
  {
   "cell_type": "code",
   "execution_count": 1,
   "metadata": {},
   "outputs": [],
   "source": [
    "# from bs4 import BeautifulSoup\n",
    "# import requests\n",
    "\n",
    "# url = 'https://en.wikipedia.org/wiki/Snowflake_schema'\n",
    "# req = requests.get(url)\n",
    "# soup = BeautifulSoup(req.text, \"html.parser\")"
   ]
  },
  {
   "cell_type": "markdown",
   "metadata": {},
   "source": [
    "### What is in our soup?\n",
    "Because we know that the main content of a wikipedia article is in `<p>` tags, we can just... find them all."
   ]
  },
  {
   "cell_type": "code",
   "execution_count": 2,
   "metadata": {},
   "outputs": [],
   "source": [
    "#p_tags = soup.find_all('p')\n",
    "#print(p_tags)"
   ]
  },
  {
   "cell_type": "markdown",
   "metadata": {},
   "source": [
    "## That's a lot of... \"soup\".\n",
    "We've found all our p tags! That's our content. yay. But that's not really useable.\n",
    "Really, what we want is all the text inside the p tags put together in one string."
   ]
  },
  {
   "cell_type": "code",
   "execution_count": 3,
   "metadata": {},
   "outputs": [],
   "source": [
    "# the_good_stuff = ''\n",
    "# for p in p_tags:\n",
    "#     the_good_stuff += p.text\n",
    "    \n",
    "# the_good_stuff"
   ]
  },
  {
   "cell_type": "markdown",
   "metadata": {},
   "source": [
    "### Victory.... but wait!\n",
    "We actually need to insert a space between the full stop and the beginning of the other `<p>` tag.  \n",
    "Let's make it a tiny bit fancier:"
   ]
  },
  {
   "cell_type": "code",
   "execution_count": 4,
   "metadata": {},
   "outputs": [],
   "source": [
    "#the_actual_good_stuff = ' '.join(map(lambda p: p.text, p_tags))\n",
    "#print(the_actual_good_stuff)"
   ]
  },
  {
   "cell_type": "markdown",
   "metadata": {},
   "source": [
    "### And since we're smart people...\n",
    "We can throw that in a function and never look at it again."
   ]
  },
  {
   "cell_type": "code",
   "execution_count": 5,
   "metadata": {},
   "outputs": [],
   "source": [
    "# def get_the_good_stuff(url):\n",
    "#     req = requests.get(url)\n",
    "#     soup = BeautifulSoup(req.text, 'html.parser')\n",
    "#     p_tags = soup.find_all('p')\n",
    "#     return ' '.join(map(lambda p: p.text, p_tags))\n",
    "    \n",
    "# get_the_good_stuff('https://en.wikipedia.org/wiki/Snowflake_schema')"
   ]
  },
  {
   "cell_type": "markdown",
   "metadata": {},
   "source": [
    "### I don't want to read all that.\n",
    "\n",
    "So the fun part begin. We actually want a summary of that. I ain't got no time to read no fancy wikipedia articles all day.  \n",
    "\n",
    "*Enter: Sumy.*\n",
    "\n",
    "It's basically magic.\n"
   ]
  },
  {
   "cell_type": "code",
   "execution_count": 6,
   "metadata": {},
   "outputs": [],
   "source": [
    "# from sumy.parsers.plaintext import PlaintextParser\n",
    "# from sumy.nlp.tokenizers import Tokenizer\n",
    "\n",
    "# our_text = get_the_good_stuff('https://en.wikipedia.org/wiki/Snowflake_schema')\n",
    "# goop = PlaintextParser(our_text, Tokenizer('english'))"
   ]
  },
  {
   "cell_type": "markdown",
   "metadata": {},
   "source": [
    "we parse our text and we use a Tokenizer (i.e we are able to make \"tokens\" out of it... let's just look at it:"
   ]
  },
  {
   "cell_type": "code",
   "execution_count": 8,
   "metadata": {},
   "outputs": [],
   "source": [
    "# dir(goop)"
   ]
  },
  {
   "cell_type": "code",
   "execution_count": 9,
   "metadata": {},
   "outputs": [],
   "source": [
    "#parsed_document = goop.document"
   ]
  },
  {
   "cell_type": "code",
   "execution_count": 10,
   "metadata": {},
   "outputs": [],
   "source": [
    "#dir(parsed_document)"
   ]
  },
  {
   "cell_type": "code",
   "execution_count": 18,
   "metadata": {},
   "outputs": [],
   "source": [
    "# from sumy.summarizers.lsa import LsaSummarizer\n",
    "# # LSA: Latent semantic analysis. The very smart person with the british accent already talked about it last month.\n",
    "# from sumy.nlp.stemmers import Stemmer\n",
    "## Stemming: reducing word to their stem.\n",
    "# from sumy.utils import get_stop_words\n",
    "\n",
    "\n",
    "# stemmer = Stemmer('english')\n",
    "# summarizer = LsaSummarizer(stemmer)\n",
    "# summarizer.stop_words = get_stop_words('english')"
   ]
  },
  {
   "cell_type": "code",
   "execution_count": 12,
   "metadata": {},
   "outputs": [],
   "source": [
    "# dir(summarizer)"
   ]
  },
  {
   "cell_type": "code",
   "execution_count": 13,
   "metadata": {},
   "outputs": [],
   "source": [
    "# MY_SUMMARY = summarizer(parsed_document, 5)"
   ]
  },
  {
   "cell_type": "code",
   "execution_count": 14,
   "metadata": {},
   "outputs": [],
   "source": [
    "#MY_SUMMARY"
   ]
  },
  {
   "cell_type": "markdown",
   "metadata": {},
   "source": [
    "### Wait that's not quite it...."
   ]
  },
  {
   "cell_type": "code",
   "execution_count": 15,
   "metadata": {},
   "outputs": [],
   "source": [
    "# for sentence in MY_SUMMARY:\n",
    "#     print(sentence)"
   ]
  },
  {
   "cell_type": "markdown",
   "metadata": {},
   "source": [
    "### And now...because we are smart _and_ fancy people...."
   ]
  },
  {
   "cell_type": "code",
   "execution_count": 16,
   "metadata": {},
   "outputs": [],
   "source": [
    "# from sumy.parsers.plaintext import PlaintextParser\n",
    "# from sumy.nlp.tokenizers import Tokenizer\n",
    "# from sumy.summarizers.lsa import LsaSummarizer\n",
    "# from sumy.nlp.stemmers import Stemmer\n",
    "# from sumy.utils import get_stop_words\n",
    "\n",
    "# def summarize_that_stuff(url, language, sentences):\n",
    "#     text = get_the_good_stuff(url)\n",
    "#     parser = PlaintextParser(text, Tokenizer(language))\n",
    "#     summarizer = LsaSummarizer(Stemmer(language))\n",
    "#     summarizer.stop_words = get_stop_words(language)\n",
    "    \n",
    "#     for sentence in summarizer(parser.document, sentences):\n",
    "#         print(sentence)\n"
   ]
  },
  {
   "cell_type": "code",
   "execution_count": 17,
   "metadata": {},
   "outputs": [],
   "source": [
    "# summarize_that_stuff('https://en.wikipedia.org/wiki/First_Amendment_to_the_United_States_Constitution', 'english', 10)"
   ]
  }
 ],
 "metadata": {
  "kernelspec": {
   "display_name": "Python 3",
   "language": "python",
   "name": "python3"
  },
  "language_info": {
   "codemirror_mode": {
    "name": "ipython",
    "version": 3
   },
   "file_extension": ".py",
   "mimetype": "text/x-python",
   "name": "python",
   "nbconvert_exporter": "python",
   "pygments_lexer": "ipython3",
   "version": "3.6.2"
  }
 },
 "nbformat": 4,
 "nbformat_minor": 2
}
